{
 "cells": [
  {
   "cell_type": "markdown",
   "metadata": {},
   "source": [
    "### Note\n",
    "* Instructions have been included for each segment. You do not have to follow them exactly, but they are included to help you think through the steps."
   ]
  },
  {
   "cell_type": "code",
   "execution_count": 2,
   "metadata": {},
   "outputs": [],
   "source": [
    "# Dependencies and Setup\n",
    "import pandas as pd\n",
    "\n",
    "# File to Load (Remember to Change These)\n",
    "file_to_load = \"purchase_data.csv\"\n",
    "\n",
    "# Read Purchasing File and store into Pandas data frame\n",
    "purchase_data = pd.read_csv(\"purchase_data.csv\")"
   ]
  },
  {
   "cell_type": "markdown",
   "metadata": {},
   "source": [
    "## Player Count"
   ]
  },
  {
   "cell_type": "markdown",
   "metadata": {},
   "source": [
    "* Display the total number of players\n"
   ]
  },
  {
   "cell_type": "code",
   "execution_count": 3,
   "metadata": {},
   "outputs": [],
   "source": [
    "Total_players_df = pd.unique(purchase_data[\"SN\"])"
   ]
  },
  {
   "cell_type": "code",
   "execution_count": 4,
   "metadata": {},
   "outputs": [],
   "source": [
    "Total_players_total=len(Total_players_df)"
   ]
  },
  {
   "cell_type": "code",
   "execution_count": 5,
   "metadata": {},
   "outputs": [
    {
     "output_type": "stream",
     "name": "stdout",
     "text": [
      "576\n"
     ]
    }
   ],
   "source": [
    "print(Total_players_total)"
   ]
  },
  {
   "cell_type": "markdown",
   "metadata": {},
   "source": [
    "## Purchasing Analysis (Total)"
   ]
  },
  {
   "cell_type": "markdown",
   "metadata": {},
   "source": [
    "* Run basic calculations to obtain number of unique items, average price, etc.\n",
    "\n",
    "\n",
    "* Create a summary data frame to hold the results\n",
    "\n",
    "\n",
    "* Optional: give the displayed data cleaner formatting\n",
    "\n",
    "\n",
    "* Display the summary data frame\n"
   ]
  },
  {
   "cell_type": "code",
   "execution_count": 6,
   "metadata": {
    "scrolled": true
   },
   "outputs": [
    {
     "output_type": "stream",
     "name": "stdout",
     "text": [
      "                          Value\nUnique_items_total   179.000000\nAverage_price          3.050987\nTotal_purchases     2379.770000\n"
     ]
    }
   ],
   "source": [
    "Unique_items_df=pd.unique(purchase_data[\"Item Name\"])\n",
    "Unique_items_total=len(Unique_items_df)\n",
    "\n",
    "Average_price=purchase_data[\"Price\"].mean()\n",
    "Total_purchases=sum(purchase_data[\"Price\"])\n",
    "\n",
    "\n",
    "Purchasing_analysis_df=pd.DataFrame(data=(Unique_items_total, Average_price, Total_purchases))\n",
    "Purchasing_analysis_df.index=['Unique_items_total','Average_price','Total_purchases']\n",
    "Purchasing_analysis_df.columns=[\"Value\"]\n",
    "\n",
    "\n",
    "print(Purchasing_analysis_df)"
   ]
  },
  {
   "cell_type": "markdown",
   "metadata": {},
   "source": [
    "## Gender Demographics"
   ]
  },
  {
   "cell_type": "markdown",
   "metadata": {},
   "source": [
    "* Percentage and Count of Male Players\n",
    "\n",
    "\n",
    "* Percentage and Count of Female Players\n",
    "\n",
    "\n",
    "* Percentage and Count of Other / Non-Disclosed\n",
    "\n",
    "\n"
   ]
  },
  {
   "cell_type": "code",
   "execution_count": 173,
   "metadata": {},
   "outputs": [
    {
     "output_type": "execute_result",
     "data": {
      "text/plain": [
       "                       Gender  Percentage Count\n",
       "Male                      484          0.840278\n",
       "Female                     81          0.140625\n",
       "Other / Non-Disclosed      11          0.019097"
      ],
      "text/html": "<div>\n<style scoped>\n    .dataframe tbody tr th:only-of-type {\n        vertical-align: middle;\n    }\n\n    .dataframe tbody tr th {\n        vertical-align: top;\n    }\n\n    .dataframe thead th {\n        text-align: right;\n    }\n</style>\n<table border=\"1\" class=\"dataframe\">\n  <thead>\n    <tr style=\"text-align: right;\">\n      <th></th>\n      <th>Gender</th>\n      <th>Percentage Count</th>\n    </tr>\n  </thead>\n  <tbody>\n    <tr>\n      <th>Male</th>\n      <td>484</td>\n      <td>0.840278</td>\n    </tr>\n    <tr>\n      <th>Female</th>\n      <td>81</td>\n      <td>0.140625</td>\n    </tr>\n    <tr>\n      <th>Other / Non-Disclosed</th>\n      <td>11</td>\n      <td>0.019097</td>\n    </tr>\n  </tbody>\n</table>\n</div>"
     },
     "metadata": {},
     "execution_count": 173
    }
   ],
   "source": [
    "total_count=pd.DataFrame(purchase_data[[\"SN\",\"Gender\"]].drop_duplicates()[\"Gender\"].value_counts())\n",
    "\n",
    "\n",
    "total_count[\"Percentage Count\"]=pd.DataFrame(purchase_data[[\"SN\",\"Gender\"]].drop_duplicates()[\"Gender\"].value_counts(normalize=1))\n",
    "total_count\n",
    "\n",
    "\n"
   ]
  },
  {
   "cell_type": "markdown",
   "metadata": {},
   "source": [
    "\n",
    "## Purchasing Analysis (Gender)"
   ]
  },
  {
   "cell_type": "markdown",
   "metadata": {},
   "source": [
    "* Run basic calculations to obtain purchase count, avg. purchase price, avg. purchase total per person etc. by gender\n",
    "\n",
    "\n",
    "\n",
    "\n",
    "* Create a summary data frame to hold the results\n",
    "\n",
    "\n",
    "* Optional: give the displayed data cleaner formatting\n",
    "\n",
    "\n",
    "* Display the summary data frame"
   ]
  },
  {
   "cell_type": "code",
   "execution_count": 9,
   "metadata": {},
   "outputs": [
    {
     "output_type": "execute_result",
     "data": {
      "text/plain": [
       "                  Gender purchase count  avg. purchase price  \\\n",
       "0                   Male            652             3.017853   \n",
       "1                 Female            113             3.203009   \n",
       "2  Other / Non-Disclosed             15             3.346000   \n",
       "\n",
       "   avg. purchase total  \n",
       "0             4.065372  \n",
       "1             4.468395  \n",
       "2             4.562727  "
      ],
      "text/html": "<div>\n<style scoped>\n    .dataframe tbody tr th:only-of-type {\n        vertical-align: middle;\n    }\n\n    .dataframe tbody tr th {\n        vertical-align: top;\n    }\n\n    .dataframe thead th {\n        text-align: right;\n    }\n</style>\n<table border=\"1\" class=\"dataframe\">\n  <thead>\n    <tr style=\"text-align: right;\">\n      <th></th>\n      <th>Gender</th>\n      <th>purchase count</th>\n      <th>avg. purchase price</th>\n      <th>avg. purchase total</th>\n    </tr>\n  </thead>\n  <tbody>\n    <tr>\n      <th>0</th>\n      <td>Male</td>\n      <td>652</td>\n      <td>3.017853</td>\n      <td>4.065372</td>\n    </tr>\n    <tr>\n      <th>1</th>\n      <td>Female</td>\n      <td>113</td>\n      <td>3.203009</td>\n      <td>4.468395</td>\n    </tr>\n    <tr>\n      <th>2</th>\n      <td>Other / Non-Disclosed</td>\n      <td>15</td>\n      <td>3.346000</td>\n      <td>4.562727</td>\n    </tr>\n  </tbody>\n</table>\n</div>"
     },
     "metadata": {},
     "execution_count": 9
    }
   ],
   "source": [
    "grouped_df=purchase_data.groupby('Gender')\n",
    "\n",
    "results_df=pd.merge(grouped_df.count()[\"Price\"],grouped_df.mean()[\"Price\"], on=\"Gender\", how=\"left\")\n",
    "results_df=pd.merge(results_df,grouped_df.sum()[\"Price\"], on=\"Gender\", how=\"left\")\n",
    "\n",
    "results_df.columns=[\"Purchase Count\",\"Average Purchase Price\",\"Total Purchase Value\"]\n",
    "results_df"
   ]
  },
  {
   "cell_type": "markdown",
   "metadata": {},
   "source": [
    "## Age Demographics"
   ]
  },
  {
   "cell_type": "markdown",
   "metadata": {},
   "source": [
    "* Establish bins for ages\n",
    "\n",
    "\n",
    "* Categorize the existing players using the age bins. Hint: use pd.cut()\n",
    "\n",
    "\n",
    "* Calculate the numbers and percentages by age group\n",
    "\n",
    "\n",
    "* Create a summary data frame to hold the results\n",
    "\n",
    "\n",
    "* Optional: round the percentage column to two decimal points\n",
    "\n",
    "\n",
    "* Display Age Demographics Table\n"
   ]
  },
  {
   "cell_type": "code",
   "execution_count": 239,
   "metadata": {},
   "outputs": [
    {
     "output_type": "execute_result",
     "data": {
      "text/plain": [
       "       Age Bins  Percentage count (as Decimal)\n",
       "<10          17                       0.029514\n",
       "10-14        22                       0.038194\n",
       "15-19       107                       0.185764\n",
       "20-24       258                       0.447917\n",
       "25-29        77                       0.133681\n",
       "30-34        52                       0.090278\n",
       "35-39        31                       0.053819\n",
       "40+          12                       0.020833"
      ],
      "text/html": "<div>\n<style scoped>\n    .dataframe tbody tr th:only-of-type {\n        vertical-align: middle;\n    }\n\n    .dataframe tbody tr th {\n        vertical-align: top;\n    }\n\n    .dataframe thead th {\n        text-align: right;\n    }\n</style>\n<table border=\"1\" class=\"dataframe\">\n  <thead>\n    <tr style=\"text-align: right;\">\n      <th></th>\n      <th>Age Bins</th>\n      <th>Percentage count (as Decimal)</th>\n    </tr>\n  </thead>\n  <tbody>\n    <tr>\n      <th>&lt;10</th>\n      <td>17</td>\n      <td>0.029514</td>\n    </tr>\n    <tr>\n      <th>10-14</th>\n      <td>22</td>\n      <td>0.038194</td>\n    </tr>\n    <tr>\n      <th>15-19</th>\n      <td>107</td>\n      <td>0.185764</td>\n    </tr>\n    <tr>\n      <th>20-24</th>\n      <td>258</td>\n      <td>0.447917</td>\n    </tr>\n    <tr>\n      <th>25-29</th>\n      <td>77</td>\n      <td>0.133681</td>\n    </tr>\n    <tr>\n      <th>30-34</th>\n      <td>52</td>\n      <td>0.090278</td>\n    </tr>\n    <tr>\n      <th>35-39</th>\n      <td>31</td>\n      <td>0.053819</td>\n    </tr>\n    <tr>\n      <th>40+</th>\n      <td>12</td>\n      <td>0.020833</td>\n    </tr>\n  </tbody>\n</table>\n</div>"
     },
     "metadata": {},
     "execution_count": 239
    }
   ],
   "source": [
    "\n",
    "\n",
    "#purchase_data[\"Age Bins\"]=\n",
    "age_bins=[0, 9.9, 14.9, 19.9, 24.9, 29.9, 34.9, 39.9, 100]\n",
    "age_bins_labels=['<10', '10-14', '15-19', '20-24', '25-29', '30-34', '35-39', '40+']\n",
    "\n",
    "age_cut=pd.cut(purchase_data[\"Age\"], age_bins, labels=age_bins_labels, include_lowest=\"TRUE\")\n",
    "purchase_data[\"Age Bins\"]=age_cut\n",
    "purchase_data.head()\n",
    "\n",
    "\n",
    "age_bins_count=pd.DataFrame(purchase_data[[\"SN\",\"Age Bins\"]].drop_duplicates()[\"Age Bins\"].value_counts(sort=False))\n",
    "age_bins_count[\"Percentage count (as Decimal)\"]=pd.DataFrame(purchase_data[[\"SN\",\"Age Bins\"]].drop_duplicates()[\"Age Bins\"].value_counts(normalize=1, sort=False))\n",
    "age_bins_count\n",
    "\n",
    "\n",
    "\n",
    "\n",
    "\n"
   ]
  },
  {
   "cell_type": "markdown",
   "metadata": {},
   "source": [
    "## Purchasing Analysis (Age)"
   ]
  },
  {
   "cell_type": "markdown",
   "metadata": {},
   "source": [
    "* Bin the purchase_data data frame by age\n",
    "\n",
    "\n",
    "* Run basic calculations to obtain purchase count, avg. purchase price, avg. purchase total per person etc. in the table below\n",
    "\n",
    "\n",
    "* Create a summary data frame to hold the results\n",
    "\n",
    "\n",
    "* Optional: give the displayed data cleaner formatting\n",
    "\n",
    "\n",
    "* Display the summary data frame"
   ]
  },
  {
   "cell_type": "code",
   "execution_count": 241,
   "metadata": {},
   "outputs": [
    {
     "output_type": "execute_result",
     "data": {
      "text/plain": [
       "          Purchase Count  Average Purchase Price  Total Purchase Value\n",
       "Age Bins                                                              \n",
       "<10                   23                3.353478                 77.13\n",
       "10-14                 28                2.956429                 82.78\n",
       "15-19                136                3.035956                412.89\n",
       "20-24                365                3.052219               1114.06\n",
       "25-29                101                2.900990                293.00\n",
       "30-34                 73                2.931507                214.00\n",
       "35-39                 41                3.601707                147.67\n",
       "40+                   13                2.941538                 38.24"
      ],
      "text/html": "<div>\n<style scoped>\n    .dataframe tbody tr th:only-of-type {\n        vertical-align: middle;\n    }\n\n    .dataframe tbody tr th {\n        vertical-align: top;\n    }\n\n    .dataframe thead th {\n        text-align: right;\n    }\n</style>\n<table border=\"1\" class=\"dataframe\">\n  <thead>\n    <tr style=\"text-align: right;\">\n      <th></th>\n      <th>Purchase Count</th>\n      <th>Average Purchase Price</th>\n      <th>Total Purchase Value</th>\n    </tr>\n    <tr>\n      <th>Age Bins</th>\n      <th></th>\n      <th></th>\n      <th></th>\n    </tr>\n  </thead>\n  <tbody>\n    <tr>\n      <th>&lt;10</th>\n      <td>23</td>\n      <td>3.353478</td>\n      <td>77.13</td>\n    </tr>\n    <tr>\n      <th>10-14</th>\n      <td>28</td>\n      <td>2.956429</td>\n      <td>82.78</td>\n    </tr>\n    <tr>\n      <th>15-19</th>\n      <td>136</td>\n      <td>3.035956</td>\n      <td>412.89</td>\n    </tr>\n    <tr>\n      <th>20-24</th>\n      <td>365</td>\n      <td>3.052219</td>\n      <td>1114.06</td>\n    </tr>\n    <tr>\n      <th>25-29</th>\n      <td>101</td>\n      <td>2.900990</td>\n      <td>293.00</td>\n    </tr>\n    <tr>\n      <th>30-34</th>\n      <td>73</td>\n      <td>2.931507</td>\n      <td>214.00</td>\n    </tr>\n    <tr>\n      <th>35-39</th>\n      <td>41</td>\n      <td>3.601707</td>\n      <td>147.67</td>\n    </tr>\n    <tr>\n      <th>40+</th>\n      <td>13</td>\n      <td>2.941538</td>\n      <td>38.24</td>\n    </tr>\n  </tbody>\n</table>\n</div>"
     },
     "metadata": {},
     "execution_count": 241
    }
   ],
   "source": [
    "grouped_df=purchase_data.groupby('Age Bins')\n",
    "\n",
    "results_df=pd.merge(grouped_df.count()[\"Price\"],grouped_df.mean()[\"Price\"], on=\"Age Bins\", how=\"left\")\n",
    "results_df=pd.merge(results_df,grouped_df.sum()[\"Price\"], on=\"Age Bins\", how=\"left\")\n",
    "\n",
    "results_df.columns=[\"Purchase Count\",\"Average Purchase Price\",\"Total Purchase Value\"]\n",
    "results_df"
   ]
  },
  {
   "cell_type": "markdown",
   "metadata": {},
   "source": [
    "## Top Spenders"
   ]
  },
  {
   "cell_type": "markdown",
   "metadata": {},
   "source": [
    "* Run basic calculations to obtain the results in the table below\n",
    "\n",
    "\n",
    "* Create a summary data frame to hold the results\n",
    "\n",
    "\n",
    "* Sort the total purchase value column in descending order\n",
    "\n",
    "\n",
    "* Optional: give the displayed data cleaner formatting\n",
    "\n",
    "\n",
    "* Display a preview of the summary data frame\n",
    "\n"
   ]
  },
  {
   "cell_type": "code",
   "execution_count": 252,
   "metadata": {},
   "outputs": [
    {
     "output_type": "execute_result",
     "data": {
      "text/plain": [
       "             Purchase Count  Average Purchase Price  Total Purchase Value\n",
       "SN                                                                       \n",
       "Lisosia93                 5                3.792000                 18.96\n",
       "Idastidru52               4                3.862500                 15.45\n",
       "Chamjask73                3                4.610000                 13.83\n",
       "Iral74                    4                3.405000                 13.62\n",
       "Iskadarya95               3                4.366667                 13.10"
      ],
      "text/html": "<div>\n<style scoped>\n    .dataframe tbody tr th:only-of-type {\n        vertical-align: middle;\n    }\n\n    .dataframe tbody tr th {\n        vertical-align: top;\n    }\n\n    .dataframe thead th {\n        text-align: right;\n    }\n</style>\n<table border=\"1\" class=\"dataframe\">\n  <thead>\n    <tr style=\"text-align: right;\">\n      <th></th>\n      <th>Purchase Count</th>\n      <th>Average Purchase Price</th>\n      <th>Total Purchase Value</th>\n    </tr>\n    <tr>\n      <th>SN</th>\n      <th></th>\n      <th></th>\n      <th></th>\n    </tr>\n  </thead>\n  <tbody>\n    <tr>\n      <th>Lisosia93</th>\n      <td>5</td>\n      <td>3.792000</td>\n      <td>18.96</td>\n    </tr>\n    <tr>\n      <th>Idastidru52</th>\n      <td>4</td>\n      <td>3.862500</td>\n      <td>15.45</td>\n    </tr>\n    <tr>\n      <th>Chamjask73</th>\n      <td>3</td>\n      <td>4.610000</td>\n      <td>13.83</td>\n    </tr>\n    <tr>\n      <th>Iral74</th>\n      <td>4</td>\n      <td>3.405000</td>\n      <td>13.62</td>\n    </tr>\n    <tr>\n      <th>Iskadarya95</th>\n      <td>3</td>\n      <td>4.366667</td>\n      <td>13.10</td>\n    </tr>\n  </tbody>\n</table>\n</div>"
     },
     "metadata": {},
     "execution_count": 252
    }
   ],
   "source": [
    "grouped_df=purchase_data.groupby('SN')\n",
    "\n",
    "results_df=pd.merge(grouped_df.count()[\"Price\"],grouped_df.mean()[\"Price\"], on=\"SN\", how=\"left\")\n",
    "results_df=pd.merge(results_df,grouped_df.sum()[\"Price\"], on=\"SN\", how=\"left\")\n",
    "\n",
    "results_df.columns=[\"Purchase Count\",\"Average Purchase Price\",\"Total Purchase Value\"]\n",
    "results_df.sort_values('Total Purchase Value', ascending=False).head(5)"
   ]
  },
  {
   "cell_type": "markdown",
   "metadata": {},
   "source": [
    "## Most Popular Items"
   ]
  },
  {
   "cell_type": "markdown",
   "metadata": {},
   "source": [
    "* Retrieve the Item ID, Item Name, and Item Price columns\n",
    "\n",
    "\n",
    "* Group by Item ID and Item Name. Perform calculations to obtain purchase count, item price, and total purchase value\n",
    "\n",
    "\n",
    "* Create a summary data frame to hold the results\n",
    "\n",
    "\n",
    "* Sort the purchase count column in descending order\n",
    "\n",
    "\n",
    "* Optional: give the displayed data cleaner formatting\n",
    "\n",
    "\n",
    "* Display a preview of the summary data frame\n",
    "\n"
   ]
  },
  {
   "cell_type": "code",
   "execution_count": 256,
   "metadata": {},
   "outputs": [
    {
     "output_type": "execute_result",
     "data": {
      "text/plain": [
       "                                              Purchase Count  \\\n",
       "Item Name                                                      \n",
       "Final Critic                                              13   \n",
       "Oathbreaker, Last Hope of the Breaking Storm              12   \n",
       "Fiery Glass Crusader                                       9   \n",
       "Persuasion                                                 9   \n",
       "Extraction, Quickblade Of Trembling Hands                  9   \n",
       "\n",
       "                                              Average Purchase Price  \\\n",
       "Item Name                                                              \n",
       "Final Critic                                                4.614615   \n",
       "Oathbreaker, Last Hope of the Breaking Storm                4.230000   \n",
       "Fiery Glass Crusader                                        4.580000   \n",
       "Persuasion                                                  3.221111   \n",
       "Extraction, Quickblade Of Trembling Hands                   3.530000   \n",
       "\n",
       "                                              Total Purchase Value  \n",
       "Item Name                                                           \n",
       "Final Critic                                                 59.99  \n",
       "Oathbreaker, Last Hope of the Breaking Storm                 50.76  \n",
       "Fiery Glass Crusader                                         41.22  \n",
       "Persuasion                                                   28.99  \n",
       "Extraction, Quickblade Of Trembling Hands                    31.77  "
      ],
      "text/html": "<div>\n<style scoped>\n    .dataframe tbody tr th:only-of-type {\n        vertical-align: middle;\n    }\n\n    .dataframe tbody tr th {\n        vertical-align: top;\n    }\n\n    .dataframe thead th {\n        text-align: right;\n    }\n</style>\n<table border=\"1\" class=\"dataframe\">\n  <thead>\n    <tr style=\"text-align: right;\">\n      <th></th>\n      <th>Purchase Count</th>\n      <th>Average Purchase Price</th>\n      <th>Total Purchase Value</th>\n    </tr>\n    <tr>\n      <th>Item Name</th>\n      <th></th>\n      <th></th>\n      <th></th>\n    </tr>\n  </thead>\n  <tbody>\n    <tr>\n      <th>Final Critic</th>\n      <td>13</td>\n      <td>4.614615</td>\n      <td>59.99</td>\n    </tr>\n    <tr>\n      <th>Oathbreaker, Last Hope of the Breaking Storm</th>\n      <td>12</td>\n      <td>4.230000</td>\n      <td>50.76</td>\n    </tr>\n    <tr>\n      <th>Fiery Glass Crusader</th>\n      <td>9</td>\n      <td>4.580000</td>\n      <td>41.22</td>\n    </tr>\n    <tr>\n      <th>Persuasion</th>\n      <td>9</td>\n      <td>3.221111</td>\n      <td>28.99</td>\n    </tr>\n    <tr>\n      <th>Extraction, Quickblade Of Trembling Hands</th>\n      <td>9</td>\n      <td>3.530000</td>\n      <td>31.77</td>\n    </tr>\n  </tbody>\n</table>\n</div>"
     },
     "metadata": {},
     "execution_count": 256
    }
   ],
   "source": [
    "grouped_df=purchase_data.groupby([\"Item ID\",\"Item Name\"])\n",
    "\n",
    "results_df=pd.merge(grouped_df.count()[\"Price\"],grouped_df.mean()[\"Price\"], on=\"Item Name\", how=\"left\")\n",
    "results_df=pd.merge(results_df,grouped_df.sum()[\"Price\"], on=\"Item Name\", how=\"left\")\n",
    "\n",
    "results_df.columns=[\"Purchase Count\",\"Average Purchase Price\",\"Total Purchase Value\"]\n",
    "results_df.sort_values('Purchase Count', ascending=False).head(5)"
   ]
  },
  {
   "cell_type": "markdown",
   "metadata": {},
   "source": [
    "## Most Profitable Items"
   ]
  },
  {
   "cell_type": "markdown",
   "metadata": {},
   "source": [
    "* Sort the above table by total purchase value in descending order\n",
    "\n",
    "\n",
    "* Optional: give the displayed data cleaner formatting\n",
    "\n",
    "\n",
    "* Display a preview of the data frame\n",
    "\n"
   ]
  },
  {
   "cell_type": "code",
   "execution_count": 258,
   "metadata": {
    "scrolled": true
   },
   "outputs": [
    {
     "output_type": "execute_result",
     "data": {
      "text/plain": [
       "                                              Purchase Count  \\\n",
       "Item Name                                                      \n",
       "Final Critic                                              13   \n",
       "Oathbreaker, Last Hope of the Breaking Storm              12   \n",
       "Nirvana                                                    9   \n",
       "Fiery Glass Crusader                                       9   \n",
       "Singed Scalpel                                             8   \n",
       "\n",
       "                                              Average Purchase Price  \\\n",
       "Item Name                                                              \n",
       "Final Critic                                                4.614615   \n",
       "Oathbreaker, Last Hope of the Breaking Storm                4.230000   \n",
       "Nirvana                                                     4.900000   \n",
       "Fiery Glass Crusader                                        4.580000   \n",
       "Singed Scalpel                                              4.350000   \n",
       "\n",
       "                                              Total Purchase Value  \n",
       "Item Name                                                           \n",
       "Final Critic                                                 59.99  \n",
       "Oathbreaker, Last Hope of the Breaking Storm                 50.76  \n",
       "Nirvana                                                      44.10  \n",
       "Fiery Glass Crusader                                         41.22  \n",
       "Singed Scalpel                                               34.80  "
      ],
      "text/html": "<div>\n<style scoped>\n    .dataframe tbody tr th:only-of-type {\n        vertical-align: middle;\n    }\n\n    .dataframe tbody tr th {\n        vertical-align: top;\n    }\n\n    .dataframe thead th {\n        text-align: right;\n    }\n</style>\n<table border=\"1\" class=\"dataframe\">\n  <thead>\n    <tr style=\"text-align: right;\">\n      <th></th>\n      <th>Purchase Count</th>\n      <th>Average Purchase Price</th>\n      <th>Total Purchase Value</th>\n    </tr>\n    <tr>\n      <th>Item Name</th>\n      <th></th>\n      <th></th>\n      <th></th>\n    </tr>\n  </thead>\n  <tbody>\n    <tr>\n      <th>Final Critic</th>\n      <td>13</td>\n      <td>4.614615</td>\n      <td>59.99</td>\n    </tr>\n    <tr>\n      <th>Oathbreaker, Last Hope of the Breaking Storm</th>\n      <td>12</td>\n      <td>4.230000</td>\n      <td>50.76</td>\n    </tr>\n    <tr>\n      <th>Nirvana</th>\n      <td>9</td>\n      <td>4.900000</td>\n      <td>44.10</td>\n    </tr>\n    <tr>\n      <th>Fiery Glass Crusader</th>\n      <td>9</td>\n      <td>4.580000</td>\n      <td>41.22</td>\n    </tr>\n    <tr>\n      <th>Singed Scalpel</th>\n      <td>8</td>\n      <td>4.350000</td>\n      <td>34.80</td>\n    </tr>\n  </tbody>\n</table>\n</div>"
     },
     "metadata": {},
     "execution_count": 258
    }
   ],
   "source": [
    "results_df.sort_values('Total Purchase Value', ascending=False).head(5)"
   ]
  },
  {
   "cell_type": "code",
   "execution_count": null,
   "metadata": {},
   "outputs": [],
   "source": []
  }
 ],
 "metadata": {
  "anaconda-cloud": {},
  "interpreter": {
   "hash": "aee8b7b246df8f9039afb4144a1f6fd8d2ca17a180786b69acc140d282b71a49"
  },
  "kernel_info": {
   "name": "python3"
  },
  "kernelspec": {
   "display_name": "Python 3",
   "language": "python",
   "name": "python3"
  },
  "language_info": {
   "codemirror_mode": {
    "name": "ipython",
    "version": 3
   },
   "file_extension": ".py",
   "mimetype": "text/x-python",
   "name": "python",
   "nbconvert_exporter": "python",
   "pygments_lexer": "ipython3",
   "version": "3.7.7-final"
  },
  "latex_envs": {
   "LaTeX_envs_menu_present": true,
   "autoclose": false,
   "autocomplete": true,
   "bibliofile": "biblio.bib",
   "cite_by": "apalike",
   "current_citInitial": 1,
   "eqLabelWithNumbers": true,
   "eqNumInitial": 1,
   "hotkeys": {
    "equation": "Ctrl-E",
    "itemize": "Ctrl-I"
   },
   "labels_anchors": false,
   "latex_user_defs": false,
   "report_style_numbering": false,
   "user_envs_cfg": false
  },
  "nteract": {
   "version": "0.2.0"
  }
 },
 "nbformat": 4,
 "nbformat_minor": 2
}